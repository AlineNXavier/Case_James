{
 "cells": [
  {
   "cell_type": "markdown",
   "metadata": {},
   "source": [
    "# 3.\tQual o impacto do shipping cost e do discount sobre as vendas? Para aumentar as vendas em qual você recomendaria investir?"
   ]
  },
  {
   "cell_type": "code",
   "execution_count": 399,
   "metadata": {},
   "outputs": [],
   "source": [
    "import pandas as pd\n",
    "import numpy as np\n",
    "import matplotlib.pyplot as plt\n",
    "import seaborn as sns\n",
    "from sklearn.preprocessing import StandardScaler\n"
   ]
  },
  {
   "cell_type": "code",
   "execution_count": 400,
   "metadata": {},
   "outputs": [],
   "source": [
    "df = pd.read_csv(\"superstore_dataset2011-2015.csv\",encoding = \"ISO-8859-1\")"
   ]
  },
  {
   "cell_type": "code",
   "execution_count": 401,
   "metadata": {},
   "outputs": [],
   "source": [
    "df['Order Date'] = pd.to_datetime(df['Order Date'])"
   ]
  },
  {
   "cell_type": "markdown",
   "metadata": {},
   "source": [
    "## Desconto"
   ]
  },
  {
   "cell_type": "code",
   "execution_count": 404,
   "metadata": {},
   "outputs": [],
   "source": [
    "# Criação da Variável booleana do desconto\n",
    "df[\"bool_Discount\"] = [0 if (i == 0) else 1 for i in df.Discount]"
   ]
  },
  {
   "cell_type": "code",
   "execution_count": 405,
   "metadata": {},
   "outputs": [
    {
     "name": "stderr",
     "output_type": "stream",
     "text": [
      "<ipython-input-405-718de02d29e1>:1: FutureWarning: Indexing with multiple keys (implicitly converted to a tuple of keys) will be deprecated, use a list instead.\n",
      "  desconto = df.groupby(['bool_Discount',\"Order Date\"])['Sales','Quantity'].sum().reset_index()\n"
     ]
    }
   ],
   "source": [
    "#Agrupando os descontos \n",
    "desconto = df.groupby(['bool_Discount','Order Date'])['Sales','Quantity'].sum().reset_index()\n",
    "desconto.sort_values(by='Order Date', inplace = True)\n",
    "desconto.set_index('Order Date', inplace = True)\n",
    "\n",
    "# Criando um dataset para as ordens que possuem descontos e outro dataset pra quem não possui\n",
    "com_desc = desconto[desconto['bool_Discount'] == 1]\n",
    "sem_desc = desconto[desconto['bool_Discount'] == 0]"
   ]
  },
  {
   "cell_type": "markdown",
   "metadata": {},
   "source": [
    "Note que no gráfico abaixo existem 3 \"agrupamentos\" de descontos"
   ]
  },
  {
   "cell_type": "code",
   "execution_count": 415,
   "metadata": {},
   "outputs": [
    {
     "data": {
      "text/plain": [
       "(array([ 611., 5344., 5237.,  755., 3477., 2685.,   22., 2046., 1786.,\n",
       "         318.]),\n",
       " array([0.002 , 0.0868, 0.1716, 0.2564, 0.3412, 0.426 , 0.5108, 0.5956,\n",
       "        0.6804, 0.7652, 0.85  ]),\n",
       " <a list of 10 Patch objects>)"
      ]
     },
     "execution_count": 415,
     "metadata": {},
     "output_type": "execute_result"
    },
    {
     "data": {
      "image/png": "[encoded data removed]",
      "text/plain": [
       "<Figure size 432x288 with 1 Axes>"
      ]
     },
     "metadata": {
      "needs_background": "light"
     },
     "output_type": "display_data"
    }
   ],
   "source": [
    "# Visualizando a distribuição dos descontos\n",
    "plt.hist(x='Discount', data=com_d, bins=10)"
   ]
  },
  {
   "cell_type": "code",
   "execution_count": 416,
   "metadata": {},
   "outputs": [
    {
     "data": {
      "text/plain": [
       "(array([3233., 5588., 4578., 2731., 2279., 1339., 1101.,  592.,  458.,\n",
       "         117.,   72.,   71.,   39.,   83.]),\n",
       " array([ 1.        ,  1.92857143,  2.85714286,  3.78571429,  4.71428571,\n",
       "         5.64285714,  6.57142857,  7.5       ,  8.42857143,  9.35714286,\n",
       "        10.28571429, 11.21428571, 12.14285714, 13.07142857, 14.        ]),\n",
       " <a list of 14 Patch objects>)"
      ]
     },
     "execution_count": 416,
     "metadata": {},
     "output_type": "execute_result"
    },
    {
     "data": {
      "image/png": "[encoded data removed]",
      "text/plain": [
       "<Figure size 432x288 with 1 Axes>"
      ]
     },
     "metadata": {
      "needs_background": "light"
     },
     "output_type": "display_data"
    }
   ],
   "source": [
    "# Visualizando a distribuição da quantidade de itens para as ordens com desconto\n",
    "plt.hist(x='Quantity',data=com_d,bins=14)"
   ]
  },
  {
   "cell_type": "markdown",
   "metadata": {},
   "source": [
    "No gráfico abaixo podemos notas que não há uma relação clara entre desconto e quantidade de itens."
   ]
  },
  {
   "cell_type": "code",
   "execution_count": 418,
   "metadata": {},
   "outputs": [
    {
     "data": {
      "text/plain": [
       "<matplotlib.axes._subplots.AxesSubplot at 0x20b5bcb65e0>"
      ]
     },
     "execution_count": 418,
     "metadata": {},
     "output_type": "execute_result"
    },
    {
     "data": {
      "image/png": "[encoded data removed]",
      "text/plain": [
       "<Figure size 432x288 with 1 Axes>"
      ]
     },
     "metadata": {
      "needs_background": "light"
     },
     "output_type": "display_data"
    }
   ],
   "source": [
    "sns.regplot(\"Discount\",'Quantity',data=com_d)"
   ]
  },
  {
   "cell_type": "markdown",
   "metadata": {},
   "source": [
    "Com base no histograma do descontos iremos criar uma variável categórica para o desconto."
   ]
  },
  {
   "cell_type": "code",
   "execution_count": 447,
   "metadata": {},
   "outputs": [],
   "source": [
    "def categorias(val):\n",
    "    if (val > 0) & (val <= 0.25):\n",
    "        return \"0.01 - 0.25\"\n",
    "    elif (val > 0.25) & (val <= 0.50):\n",
    "        return \"0.26 - 0.50\"\n",
    "    elif (val > 0.5) :\n",
    "        return \"0.51 - 1\"\n",
    "    elif val == 0:\n",
    "        return '0.0'\n",
    "\n",
    "df['cat_Des'] = df['Discount'].apply(categorias)"
   ]
  },
  {
   "cell_type": "markdown",
   "metadata": {},
   "source": [
    "Note na tabela abaixo que para as ordens sem desconto e para as ordens com desconto até de 25% o lucro é positivo"
   ]
  },
  {
   "cell_type": "code",
   "execution_count": 425,
   "metadata": {},
   "outputs": [
    {
     "name": "stderr",
     "output_type": "stream",
     "text": [
      "<ipython-input-425-c819706aa2ae>:1: FutureWarning: Indexing with multiple keys (implicitly converted to a tuple of keys) will be deprecated, use a list instead.\n",
      "  desc = df.groupby(['D'])['Sales','Quantity','Profit'].sum().reset_index()\n"
     ]
    },
    {
     "data": {
      "text/html": [
       "<div>\n",
       "<style scoped>\n",
       "    .dataframe tbody tr th:only-of-type {\n",
       "        vertical-align: middle;\n",
       "    }\n",
       "\n",
       "    .dataframe tbody tr th {\n",
       "        vertical-align: top;\n",
       "    }\n",
       "\n",
       "    .dataframe thead th {\n",
       "        text-align: right;\n",
       "    }\n",
       "</style>\n",
       "<table border=\"1\" class=\"dataframe\">\n",
       "  <thead>\n",
       "    <tr style=\"text-align: right;\">\n",
       "      <th></th>\n",
       "      <th>Sales</th>\n",
       "      <th>Quantity</th>\n",
       "      <th>Profit</th>\n",
       "    </tr>\n",
       "    <tr>\n",
       "      <th>D</th>\n",
       "      <th></th>\n",
       "      <th></th>\n",
       "      <th></th>\n",
       "    </tr>\n",
       "  </thead>\n",
       "  <tbody>\n",
       "    <tr>\n",
       "      <th>0.0</th>\n",
       "      <td>6.992411e+06</td>\n",
       "      <td>98768</td>\n",
       "      <td>1.770695e+06</td>\n",
       "    </tr>\n",
       "    <tr>\n",
       "      <th>0.01 - 0.25</th>\n",
       "      <td>3.824151e+06</td>\n",
       "      <td>41962</td>\n",
       "      <td>5.116494e+05</td>\n",
       "    </tr>\n",
       "    <tr>\n",
       "      <th>0.26 - 0.50</th>\n",
       "      <td>1.454315e+06</td>\n",
       "      <td>25713</td>\n",
       "      <td>-4.023057e+05</td>\n",
       "    </tr>\n",
       "    <tr>\n",
       "      <th>0.51 - 1</th>\n",
       "      <td>3.716247e+05</td>\n",
       "      <td>11869</td>\n",
       "      <td>-4.125817e+05</td>\n",
       "    </tr>\n",
       "  </tbody>\n",
       "</table>\n",
       "</div>"
      ],
      "text/plain": [
       "                    Sales  Quantity        Profit\n",
       "D                                                \n",
       "0.0          6.992411e+06     98768  1.770695e+06\n",
       "0.01 - 0.25  3.824151e+06     41962  5.116494e+05\n",
       "0.26 - 0.50  1.454315e+06     25713 -4.023057e+05\n",
       "0.51 - 1     3.716247e+05     11869 -4.125817e+05"
      ]
     },
     "execution_count": 425,
     "metadata": {},
     "output_type": "execute_result"
    }
   ],
   "source": [
    "desc = df.groupby(['cat_Des'])['Sales','Quantity','Profit'].sum().reset_index()\n",
    "desc.set_index('cat_Des',inplace=True)\n",
    "desc"
   ]
  },
  {
   "cell_type": "markdown",
   "metadata": {},
   "source": [
    "Nesta próxima tabela avaliamos as medidas médias para vendas, lucro e quantidade de produto.\n",
    "\n",
    "- A classe sem descontos possui um lucro médio maior porém perde para a classe de descontos de até 25% em Vendas médias e itens."
   ]
  },
  {
   "cell_type": "code",
   "execution_count": 448,
   "metadata": {},
   "outputs": [
    {
     "name": "stderr",
     "output_type": "stream",
     "text": [
      "<ipython-input-448-bb8734734095>:1: FutureWarning: Indexing with multiple keys (implicitly converted to a tuple of keys) will be deprecated, use a list instead.\n",
      "  te = df.groupby(['cat_Des'])['Sales','Quantity','Profit'].mean().reset_index()\n"
     ]
    },
    {
     "data": {
      "text/html": [
       "<div>\n",
       "<style scoped>\n",
       "    .dataframe tbody tr th:only-of-type {\n",
       "        vertical-align: middle;\n",
       "    }\n",
       "\n",
       "    .dataframe tbody tr th {\n",
       "        vertical-align: top;\n",
       "    }\n",
       "\n",
       "    .dataframe thead th {\n",
       "        text-align: right;\n",
       "    }\n",
       "</style>\n",
       "<table border=\"1\" class=\"dataframe\">\n",
       "  <thead>\n",
       "    <tr style=\"text-align: right;\">\n",
       "      <th></th>\n",
       "      <th>cat_Des</th>\n",
       "      <th>Sales</th>\n",
       "      <th>Quantity</th>\n",
       "      <th>Profit</th>\n",
       "    </tr>\n",
       "  </thead>\n",
       "  <tbody>\n",
       "    <tr>\n",
       "      <th>0</th>\n",
       "      <td>0.0</td>\n",
       "      <td>241.042813</td>\n",
       "      <td>3.404736</td>\n",
       "      <td>61.039514</td>\n",
       "    </tr>\n",
       "    <tr>\n",
       "      <th>1</th>\n",
       "      <td>0.01 - 0.25</td>\n",
       "      <td>341.686131</td>\n",
       "      <td>3.749285</td>\n",
       "      <td>45.715638</td>\n",
       "    </tr>\n",
       "    <tr>\n",
       "      <th>2</th>\n",
       "      <td>0.26 - 0.50</td>\n",
       "      <td>210.252295</td>\n",
       "      <td>3.717363</td>\n",
       "      <td>-58.161883</td>\n",
       "    </tr>\n",
       "    <tr>\n",
       "      <th>3</th>\n",
       "      <td>0.51 - 1</td>\n",
       "      <td>89.075902</td>\n",
       "      <td>2.844919</td>\n",
       "      <td>-98.893015</td>\n",
       "    </tr>\n",
       "  </tbody>\n",
       "</table>\n",
       "</div>"
      ],
      "text/plain": [
       "       cat_Des       Sales  Quantity     Profit\n",
       "0          0.0  241.042813  3.404736  61.039514\n",
       "1  0.01 - 0.25  341.686131  3.749285  45.715638\n",
       "2  0.26 - 0.50  210.252295  3.717363 -58.161883\n",
       "3     0.51 - 1   89.075902  2.844919 -98.893015"
      ]
     },
     "execution_count": 448,
     "metadata": {},
     "output_type": "execute_result"
    }
   ],
   "source": [
    "te = df.groupby(['cat_Des'])['Sales','Quantity','Profit'].mean().reset_index()\n",
    "te"
   ]
  },
  {
   "cell_type": "code",
   "execution_count": 449,
   "metadata": {},
   "outputs": [
    {
     "data": {
      "text/plain": [
       "(-1.109834755393806,\n",
       " 1.1004683216854194,\n",
       " -1.1326221300121493,\n",
       " 1.1122717231332497)"
      ]
     },
     "execution_count": 449,
     "metadata": {},
     "output_type": "execute_result"
    },
    {
     "data": {
      "image/png": "[encoded data removed]",
      "text/plain": [
       "<Figure size 432x288 with 1 Axes>"
      ]
     },
     "metadata": {},
     "output_type": "display_data"
    }
   ],
   "source": [
    "# Rosca da quantidade total por classe de desconto\n",
    "desc.Quantity.plot(kind='pie',  autopct='%.2f%%')\n",
    "plt.axis('equal')  "
   ]
  },
  {
   "cell_type": "code",
   "execution_count": 450,
   "metadata": {},
   "outputs": [
    {
     "data": {
      "text/plain": [
       "(-1.1100311575283448,\n",
       " 1.1004776745454934,\n",
       " -1.11323170363925,\n",
       " 1.1113746091309415)"
      ]
     },
     "execution_count": 450,
     "metadata": {},
     "output_type": "execute_result"
    },
    {
     "data": {
      "image/png": "[encoded data removed]",
      "text/plain": [
       "<Figure size 432x288 with 1 Axes>"
      ]
     },
     "metadata": {},
     "output_type": "display_data"
    }
   ],
   "source": [
    "# Rosca das vendas totais por classe de desconto\n",
    "\n",
    "desc.Sales.plot(kind='pie',  autopct='%.2f%%')\n",
    "plt.axis('equal')  "
   ]
  },
  {
   "cell_type": "markdown",
   "metadata": {},
   "source": [
    "# Shipping Cost"
   ]
  },
  {
   "cell_type": "markdown",
   "metadata": {},
   "source": [
    "Conforme o frete aumenta a quantidade de vendas cai"
   ]
  },
  {
   "cell_type": "code",
   "execution_count": 343,
   "metadata": {},
   "outputs": [
    {
     "data": {
      "text/plain": [
       "<matplotlib.axes._subplots.AxesSubplot at 0x20b40b3d910>"
      ]
     },
     "execution_count": 343,
     "metadata": {},
     "output_type": "execute_result"
    },
    {
     "data": {
      "image/png": "[encoded data removed]",
      "text/plain": [
       "<Figure size 432x288 with 1 Axes>"
      ]
     },
     "metadata": {
      "needs_background": "light"
     },
     "output_type": "display_data"
    }
   ],
   "source": [
    "sns.regplot('Shipping Cost','Sales',data=df)"
   ]
  },
  {
   "cell_type": "code",
   "execution_count": 432,
   "metadata": {},
   "outputs": [],
   "source": [
    "# Criando uma variável que contém o percentual do preço do frete sobre a venda\n",
    "df['Per_ship'] = (df['Shipping Cost'] / df['Sales'])"
   ]
  },
  {
   "cell_type": "markdown",
   "metadata": {},
   "source": [
    "Na próxima figura podemos ver a dispersão do percentual do frete sobre a venda "
   ]
  },
  {
   "cell_type": "code",
   "execution_count": 398,
   "metadata": {},
   "outputs": [
    {
     "data": {
      "text/plain": [
       "(array([1.0858e+04, 2.3612e+04, 9.7680e+03, 3.7950e+03, 1.7840e+03,\n",
       "        9.2400e+02, 3.8600e+02, 1.2700e+02, 3.2000e+01, 4.0000e+00]),\n",
       " array([0.        , 0.05896377, 0.11792754, 0.17689131, 0.23585508,\n",
       "        0.29481885, 0.35378262, 0.41274639, 0.47171016, 0.53067393,\n",
       "        0.5896377 ]),\n",
       " <a list of 10 Patch objects>)"
      ]
     },
     "execution_count": 398,
     "metadata": {},
     "output_type": "execute_result"
    },
    {
     "data": {
      "image/png": "[encoded data removed]",
      "text/plain": [
       "<Figure size 432x288 with 1 Axes>"
      ]
     },
     "metadata": {
      "needs_background": "light"
     },
     "output_type": "display_data"
    }
   ],
   "source": [
    "plt.hist(x='Per_ship', data=df, bins=10)"
   ]
  },
  {
   "cell_type": "markdown",
   "metadata": {},
   "source": [
    "Criamos uma variável categórica para as porcentagens "
   ]
  },
  {
   "cell_type": "code",
   "execution_count": 439,
   "metadata": {},
   "outputs": [],
   "source": [
    "def categorias_ship(val):\n",
    "    if (val > 0) & (val <= 0.10):\n",
    "        return \"0.0 - 0.10\"\n",
    "    elif (val > 0.10) & (val <= 0.20):\n",
    "        return \"0.11 - 0.20\"\n",
    "    elif (val > 0.20) & (val <= 0.30):\n",
    "        return \"0.21 - 0.30\"\n",
    "    elif (val > 0.30):\n",
    "        return \"0.31 - 0.60\"\n",
    "\n",
    "df['cat_ship'] = df['Per_ship'].apply(categorias_ship)"
   ]
  },
  {
   "cell_type": "code",
   "execution_count": 440,
   "metadata": {},
   "outputs": [
    {
     "name": "stderr",
     "output_type": "stream",
     "text": [
      "<ipython-input-440-d64fca356769>:1: FutureWarning: Indexing with multiple keys (implicitly converted to a tuple of keys) will be deprecated, use a list instead.\n",
      "  ship_sum = df.groupby(['cat_ship'])['Sales','Quantity','Profit'].sum().reset_index()\n"
     ]
    },
    {
     "data": {
      "text/html": [
       "<div>\n",
       "<style scoped>\n",
       "    .dataframe tbody tr th:only-of-type {\n",
       "        vertical-align: middle;\n",
       "    }\n",
       "\n",
       "    .dataframe tbody tr th {\n",
       "        vertical-align: top;\n",
       "    }\n",
       "\n",
       "    .dataframe thead th {\n",
       "        text-align: right;\n",
       "    }\n",
       "</style>\n",
       "<table border=\"1\" class=\"dataframe\">\n",
       "  <thead>\n",
       "    <tr style=\"text-align: right;\">\n",
       "      <th></th>\n",
       "      <th>Sales</th>\n",
       "      <th>Quantity</th>\n",
       "      <th>Profit</th>\n",
       "    </tr>\n",
       "    <tr>\n",
       "      <th>cat_ship</th>\n",
       "      <th></th>\n",
       "      <th></th>\n",
       "      <th></th>\n",
       "    </tr>\n",
       "  </thead>\n",
       "  <tbody>\n",
       "    <tr>\n",
       "      <th>0.0 - 0.10</th>\n",
       "      <td>7.302394e+06</td>\n",
       "      <td>102136</td>\n",
       "      <td>858718.59478</td>\n",
       "    </tr>\n",
       "    <tr>\n",
       "      <th>0.11 - 0.20</th>\n",
       "      <td>4.139277e+06</td>\n",
       "      <td>58400</td>\n",
       "      <td>472005.14778</td>\n",
       "    </tr>\n",
       "    <tr>\n",
       "      <th>0.21 - 0.30</th>\n",
       "      <td>8.949132e+05</td>\n",
       "      <td>13167</td>\n",
       "      <td>92026.17144</td>\n",
       "    </tr>\n",
       "    <tr>\n",
       "      <th>0.31 - 0.60</th>\n",
       "      <td>3.058429e+05</td>\n",
       "      <td>4604</td>\n",
       "      <td>44703.17728</td>\n",
       "    </tr>\n",
       "  </tbody>\n",
       "</table>\n",
       "</div>"
      ],
      "text/plain": [
       "                    Sales  Quantity        Profit\n",
       "cat_ship                                         \n",
       "0.0 - 0.10   7.302394e+06    102136  858718.59478\n",
       "0.11 - 0.20  4.139277e+06     58400  472005.14778\n",
       "0.21 - 0.30  8.949132e+05     13167   92026.17144\n",
       "0.31 - 0.60  3.058429e+05      4604   44703.17728"
      ]
     },
     "execution_count": 440,
     "metadata": {},
     "output_type": "execute_result"
    }
   ],
   "source": [
    "ship_sum = df.groupby(['cat_ship'])['Sales','Quantity','Profit'].sum().reset_index()\n",
    "ship_sum.set_index('cat_ship', inplace=True)\n",
    "ship_sum"
   ]
  },
  {
   "cell_type": "code",
   "execution_count": 441,
   "metadata": {},
   "outputs": [
    {
     "data": {
      "text/plain": [
       "(-1.1048117290789508,\n",
       " 1.1002291299561404,\n",
       " -1.1087928846662656,\n",
       " 1.1105787525762116)"
      ]
     },
     "execution_count": 441,
     "metadata": {},
     "output_type": "execute_result"
    },
    {
     "data": {
      "image/png": "[encoded data removed]",
      "text/plain": [
       "<Figure size 432x288 with 1 Axes>"
      ]
     },
     "metadata": {},
     "output_type": "display_data"
    }
   ],
   "source": [
    "# Total de vendas por categoria de frete\n",
    "ship_sum.Sales.plot(kind='pie',  autopct='%.2f%%')\n",
    "plt.axis('equal')  "
   ]
  },
  {
   "cell_type": "code",
   "execution_count": 442,
   "metadata": {},
   "outputs": [
    {
     "data": {
      "text/plain": [
       "(-1.1011704453815945,\n",
       " 1.1000557354943616,\n",
       " -1.1119562615991871,\n",
       " 1.1096611492380615)"
      ]
     },
     "execution_count": 442,
     "metadata": {},
     "output_type": "execute_result"
    },
    {
     "data": {
      "image/png": "[encoded data removed]",
      "text/plain": [
       "<Figure size 432x288 with 1 Axes>"
      ]
     },
     "metadata": {},
     "output_type": "display_data"
    }
   ],
   "source": [
    "# Total de itens por categoria de frete\n",
    "ship_sum.Quantity.plot(kind='pie',  autopct='%.2f%%')\n",
    "plt.axis('equal') "
   ]
  },
  {
   "cell_type": "code",
   "execution_count": 454,
   "metadata": {},
   "outputs": [
    {
     "data": {
      "text/plain": [
       "(-1.10920191739464, 1.1004382033640756, -1.104684289056611, 1.111732283580754)"
      ]
     },
     "execution_count": 454,
     "metadata": {},
     "output_type": "execute_result"
    },
    {
     "data": {
      "image/png": "[encoded data removed]",
      "text/plain": [
       "<Figure size 432x288 with 1 Axes>"
      ]
     },
     "metadata": {},
     "output_type": "display_data"
    }
   ],
   "source": [
    "# Total de lucros por categoria de frete\n",
    "ship_sum.Profit.plot(kind='pie',  autopct='%.2f%%')\n",
    "plt.axis('equal') "
   ]
  },
  {
   "cell_type": "markdown",
   "metadata": {},
   "source": [
    "Mesma análise, mas agora olhando para os valores médios"
   ]
  },
  {
   "cell_type": "code",
   "execution_count": 443,
   "metadata": {},
   "outputs": [
    {
     "name": "stderr",
     "output_type": "stream",
     "text": [
      "<ipython-input-443-a3ebf75a2679>:1: FutureWarning: Indexing with multiple keys (implicitly converted to a tuple of keys) will be deprecated, use a list instead.\n",
      "  ship_mean = df.groupby(['cat_ship'])['Sales','Quantity','Profit'].mean().reset_index()\n"
     ]
    },
    {
     "data": {
      "text/html": [
       "<div>\n",
       "<style scoped>\n",
       "    .dataframe tbody tr th:only-of-type {\n",
       "        vertical-align: middle;\n",
       "    }\n",
       "\n",
       "    .dataframe tbody tr th {\n",
       "        vertical-align: top;\n",
       "    }\n",
       "\n",
       "    .dataframe thead th {\n",
       "        text-align: right;\n",
       "    }\n",
       "</style>\n",
       "<table border=\"1\" class=\"dataframe\">\n",
       "  <thead>\n",
       "    <tr style=\"text-align: right;\">\n",
       "      <th></th>\n",
       "      <th>Sales</th>\n",
       "      <th>Quantity</th>\n",
       "      <th>Profit</th>\n",
       "    </tr>\n",
       "    <tr>\n",
       "      <th>cat_ship</th>\n",
       "      <th></th>\n",
       "      <th></th>\n",
       "      <th></th>\n",
       "    </tr>\n",
       "  </thead>\n",
       "  <tbody>\n",
       "    <tr>\n",
       "      <th>0.0 - 0.10</th>\n",
       "      <td>249.833855</td>\n",
       "      <td>3.494338</td>\n",
       "      <td>29.378993</td>\n",
       "    </tr>\n",
       "    <tr>\n",
       "      <th>0.11 - 0.20</th>\n",
       "      <td>245.174274</td>\n",
       "      <td>3.459101</td>\n",
       "      <td>27.957422</td>\n",
       "    </tr>\n",
       "    <tr>\n",
       "      <th>0.21 - 0.30</th>\n",
       "      <td>234.885361</td>\n",
       "      <td>3.455906</td>\n",
       "      <td>24.153851</td>\n",
       "    </tr>\n",
       "    <tr>\n",
       "      <th>0.31 - 0.60</th>\n",
       "      <td>223.896676</td>\n",
       "      <td>3.370425</td>\n",
       "      <td>32.725606</td>\n",
       "    </tr>\n",
       "  </tbody>\n",
       "</table>\n",
       "</div>"
      ],
      "text/plain": [
       "                  Sales  Quantity     Profit\n",
       "cat_ship                                    \n",
       "0.0 - 0.10   249.833855  3.494338  29.378993\n",
       "0.11 - 0.20  245.174274  3.459101  27.957422\n",
       "0.21 - 0.30  234.885361  3.455906  24.153851\n",
       "0.31 - 0.60  223.896676  3.370425  32.725606"
      ]
     },
     "execution_count": 443,
     "metadata": {},
     "output_type": "execute_result"
    }
   ],
   "source": [
    "ship_mean = df.groupby(['cat_ship'])['Sales','Quantity','Profit'].mean().reset_index()\n",
    "ship_mean.set_index('cat_ship',inplace=True)\n",
    "ship_mean"
   ]
  },
  {
   "cell_type": "markdown",
   "metadata": {},
   "source": [
    "Podemos dizer que a venda, quantidade e lucro médio sobem linearmente conforme o percentual do frete aumenta."
   ]
  },
  {
   "cell_type": "code",
   "execution_count": null,
   "metadata": {},
   "outputs": [],
   "source": []
  }
 ],
 "metadata": {
  "kernelspec": {
   "display_name": "Python 3",
   "language": "python",
   "name": "python3"
  },
  "language_info": {
   "codemirror_mode": {
    "name": "ipython",
    "version": 3
   },
   "file_extension": ".py",
   "mimetype": "text/x-python",
   "name": "python",
   "nbconvert_exporter": "python",
   "pygments_lexer": "ipython3",
   "version": "3.8.1"
  }
 },
 "nbformat": 4,
 "nbformat_minor": 4
}
